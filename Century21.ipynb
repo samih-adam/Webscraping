{
 "cells": [
  {
   "cell_type": "code",
   "execution_count": 13,
   "metadata": {},
   "outputs": [],
   "source": [
    "import requests\n",
    "from bs4 import BeautifulSoup"
   ]
  },
  {
   "cell_type": "code",
   "execution_count": 4,
   "metadata": {},
   "outputs": [],
   "source": [
    "r = requests.get(\"http://www.pyclass.com/real-estate/rock-springs-wy/LCWYROCKSPRINGS/\", headers={'User-agent': 'Mozilla/5.0 (X11; Ubuntu; Linux x86_64; rv:61.0) Gecko/20100101 Firefox/61.0'})\n",
    "c=r.content"
   ]
  },
  {
   "cell_type": "code",
   "execution_count": 11,
   "metadata": {},
   "outputs": [],
   "source": [
    "soup = BeautifulSoup(c, \"html.parser\")\n",
    "#what this is doing is pulling out all the HTML and making it easier to read and also easier to search things up"
   ]
  },
  {
   "cell_type": "code",
   "execution_count": 12,
   "metadata": {},
   "outputs": [],
   "source": [
    "# print(soup)"
   ]
  },
  {
   "cell_type": "code",
   "execution_count": 31,
   "metadata": {},
   "outputs": [
    {
     "data": {
      "text/plain": [
       "'$725,000'"
      ]
     },
     "execution_count": 31,
     "metadata": {},
     "output_type": "execute_result"
    }
   ],
   "source": [
    "all=soup.find_all(\"div\",{\"class\": \"propertyRow\"})\n",
    "\n",
    "all[0].find(\"h4\",{\"class\":\"propPrice\"}).text.replace(\"\\n\",\"\").replace(\" \",\"\")\n",
    "all"
   ]
  },
  {
   "cell_type": "code",
   "execution_count": 55,
   "metadata": {},
   "outputs": [
    {
     "name": "stdout",
     "output_type": "stream",
     "text": [
      "$725,000\n",
      "0 Gateway\n",
      "Rock Springs, WY 82901\n",
      "None\n",
      "None\n",
      "None\n",
      " \n",
      "$452,900\n",
      "1003 Winchester Blvd.\n",
      "Rock Springs, WY 82901\n",
      "4\n",
      "None\n",
      "None\n",
      "4\n",
      "None\n",
      " \n",
      "$396,900\n",
      "600 Talladega\n",
      "Rock Springs, WY 82901\n",
      "5\n",
      "None\n",
      "None\n",
      "3\n",
      "None\n",
      " \n",
      "$389,900\n",
      "3239 Spearhead Way\n",
      "Rock Springs, WY 82901\n",
      "4\n",
      "None\n",
      "None\n",
      "3\n",
      "None\n",
      "1\n",
      " \n",
      "$254,000\n",
      "522 Emerald Street\n",
      "Rock Springs, WY 82901\n",
      "3\n",
      "None\n",
      "None\n",
      "3\n",
      "None\n",
      " \n",
      "$252,900\n",
      "1302 Veteran's Drive\n",
      "Rock Springs, WY 82901\n",
      "4\n",
      "None\n",
      "None\n",
      "2\n",
      "None\n",
      " \n",
      "$210,000\n",
      "1021 Cypress Cir\n",
      "Rock Springs, WY 82901\n",
      "4\n",
      "None\n",
      "None\n",
      "3\n",
      "None\n",
      " \n",
      "$209,000\n",
      "913 Madison Dr\n",
      "Rock Springs, WY 82901\n",
      "3\n",
      "None\n",
      "None\n",
      "2\n",
      "None\n",
      " \n",
      "$199,900\n",
      "1344 Teton Street\n",
      "Rock Springs, WY 82901\n",
      "3\n",
      "None\n",
      "None\n",
      "2\n",
      "None\n",
      " \n",
      "$196,900\n",
      "4 Minnies Lane\n",
      "Rock Springs, WY 82901\n",
      "3\n",
      "None\n",
      "None\n",
      "2\n",
      "None\n",
      " \n"
     ]
    }
   ],
   "source": [
    "for item in all:\n",
    "    d={}\n",
    "    d[\"Price\"]=(item.find(\"h4\",{\"class\", \"propPrice\"}).text.replace(\"\\n\",\"\").replace(\" \",\"\")\n",
    "    d[\"Address\"]=(item.find_all(\"span\", {\"class\", \"propAddressCollapse\"})[0].text\n",
    "    d[\"Locality\"]=(item.find_all(\"span\", {\"class\", \"propAddressCollapse\"})[1].text\n",
    "    try:\n",
    "        d[\"Beds\"]=(item.find(\"span\",{\"class\",\"infoBed\"}).find(\"b\").text\n",
    "    except:\n",
    "        pass\n",
    "    d[\"Beds\"]=None\n",
    "\n",
    "    try:\n",
    "        d[\"Area]\"=(item.find(\"span\",{\"class\",\"infoSqft\"}).find(\"b\").text\n",
    "    except:\n",
    "        pass\n",
    "    d[\"Area\"]=None\n",
    "    \n",
    "    try:\n",
    "        d[\"Full Baths\"]=(item.find(\"span\",{\"class\",\"infoValueFullBath\"}).find(\"b\").text\n",
    "    except:\n",
    "        pass\n",
    "    d[\"Full Baths\"]=None\n",
    "     \n",
    "    try:\n",
    "        print(item.find(\"span\",{\"class\",\"infoValueHalfBath\"}).find(\"b\").text)\n",
    "    except:\n",
    "        pass\n",
    "    for column_group in item.find_all(\"div\", {\"class\":\"columngroup\"}):\n",
    "        # print(column_group)\n",
    "        for feature_group, feature_name in zip(column_group.find_all(\"span\", {\"class\": \"featureGroup\"}),column_group.find_all(\"span\",{\"class\":\"featureName\"})):\n",
    "           print(feature_group.text, feature_name.text)\n",
    "        \n",
    "    \n",
    "    \n",
    "    print(\" \")\n",
    "    "
   ]
  },
  {
   "cell_type": "code",
   "execution_count": null,
   "metadata": {},
   "outputs": [],
   "source": []
  }
 ],
 "metadata": {
  "kernelspec": {
   "display_name": "Python 3",
   "language": "python",
   "name": "python3"
  },
  "language_info": {
   "codemirror_mode": {
    "name": "ipython",
    "version": 3
   },
   "file_extension": ".py",
   "mimetype": "text/x-python",
   "name": "python",
   "nbconvert_exporter": "python",
   "pygments_lexer": "ipython3",
   "version": "3.7.6"
  }
 },
 "nbformat": 4,
 "nbformat_minor": 4
}
