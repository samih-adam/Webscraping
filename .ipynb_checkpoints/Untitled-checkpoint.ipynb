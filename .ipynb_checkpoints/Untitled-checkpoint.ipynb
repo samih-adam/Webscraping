{
 "cells": [
  {
   "cell_type": "code",
   "execution_count": null,
   "outputs": [],
   "source": [
    "import requests\n",
    "from bs4 import BeautifulSoup"
   ],
   "metadata": {
    "collapsed": false,
    "pycharm": {
     "name": "#%%\n"
    }
   }
  },
  {
   "cell_type": "code",
   "execution_count": null,
   "outputs": [],
   "source": [
    "r=requests.get(\"https://www.epicgames.com/id/activate\")\n",
    "c=r.content"
   ],
   "metadata": {
    "collapsed": false,
    "pycharm": {
     "name": "#%%\n"
    }
   }
  },
  {
   "cell_type": "code",
   "execution_count": null,
   "outputs": [],
   "source": [
    "type(c)"
   ],
   "metadata": {
    "collapsed": false,
    "pycharm": {
     "name": "#%%\n"
    }
   }
  },
  {
   "cell_type": "code",
   "execution_count": null,
   "outputs": [],
   "source": [
    "soup=BeautifulSoup(c,\"html.parser\")"
   ],
   "metadata": {
    "collapsed": false,
    "pycharm": {
     "name": "#%%\n"
    }
   }
  },
  {
   "cell_type": "code",
   "execution_count": null,
   "outputs": [],
   "source": [
    "print(soup.prettify())"
   ],
   "metadata": {
    "collapsed": false,
    "pycharm": {
     "name": "#%%\n"
    }
   }
  },
  {
   "cell_type": "code",
   "execution_count": null,
   "outputs": [],
   "source": [
    "soup.find_all(\"div\")"
   ],
   "metadata": {
    "collapsed": false,
    "pycharm": {
     "name": "#%%\n"
    }
   }
  },
  {
   "cell_type": "code",
   "execution_count": null,
   "outputs": [],
   "source": [],
   "metadata": {
    "collapsed": false,
    "pycharm": {
     "name": "#%%\n"
    }
   }
  },
  {
   "cell_type": "code",
   "execution_count": 2,
   "metadata": {},
   "outputs": [],
   "source": []
  },
  {
   "cell_type": "code",
   "execution_count": 14,
   "metadata": {},
   "outputs": [],
   "source": [
    "r=requests.get(\"https://www.epicgames.com/id/activate\")\n",
    "c=r.content"
   ]
  },
  {
   "cell_type": "code",
   "execution_count": 8,
   "metadata": {},
   "outputs": [
    {
     "data": {
      "text/plain": [
       "bytes"
      ]
     },
     "execution_count": 8,
     "metadata": {},
     "output_type": "execute_result"
    }
   ],
   "source": [
    "type(c)"
   ]
  },
  {
   "cell_type": "code",
   "execution_count": 15,
   "metadata": {},
   "outputs": [],
   "source": [
    "soup=BeautifulSoup(c,\"html.parser\")"
   ]
  },
  {
   "cell_type": "code",
   "execution_count": 18,
   "metadata": {
    "scrolled": true
   },
   "outputs": [
    {
     "name": "stdout",
     "output_type": "stream",
     "text": [
      "<!DOCTYPE html>\n",
      "<html lang=\"en\">\n",
      " <head>\n",
      "  <meta charset=\"utf-8\"/>\n",
      "  <meta content=\"width=device-width,initial-scale=1,user-scalable=no,minimal-ui,shrink-to-fit=no,viewport-fit=cover\" name=\"viewport\"/>\n",
      "  <meta content=\"#000000\" name=\"theme-color\"/>\n",
      "  <meta content=\"origin-when-cross-origin\" name=\"referrer\"/>\n",
      "  <link href=\"https://static-assets-prod.unrealengine.com/account-portal/static/manifest.json\" rel=\"manifest\"/>\n",
      "  <link href=\"https://static-assets-prod.unrealengine.com/account-portal/static/epic-favicon-96x96.png\" rel=\"shortcut icon\"/>\n",
      "  <script>\n",
      "   window._epicEnableCookieGuard=!1\n",
      "  </script>\n",
      "  <title>\n",
      "   Epic Games\n",
      "  </title>\n",
      "  <link href=\"https://static-assets-prod.unrealengine.com/account-portal/static/static/css/main.439b551b.chunk.css\" rel=\"stylesheet\"/>\n",
      " </head>\n",
      " <body style=\"background:#121212\">\n",
      "  <script>\n",
      "   console.log=function(){},console.debug=function(){},console.table=function(){},console.info=function(){},console.trace=function(){}\n",
      "  </script>\n",
      "  <script>\n",
      "   const trackingBase=\"https://tracking.epicgames.com,https://tracking.unrealengine.com\".split(\",\");window.__tracking_base=~window.location.hostname.indexOf(\"unrealengine\")?trackingBase[1]:trackingBase[0];const sid=document.location.search.match(/sid=([^&]*)/),src=window.__tracking_base+\"/tracking.js\"+(sid?\"?sid=\"+sid[1]:\"\"),script=document.createElement(\"script\");script.type=\"text/javascript\",script.src=src,script.async=!0,document.body.appendChild(script);const link=document.createElement(\"link\");link.href=src,link.rel=\"preload\",link.as=\"script\",document.head.appendChild(link)\n",
      "  </script>\n",
      "  <noscript>\n",
      "   You need to enable JavaScript to run this app.\n",
      "  </noscript>\n",
      "  <div id=\"root\">\n",
      "  </div>\n",
      "  <script>\n",
      "   !function(e){function t(t){for(var a,n,o=t[0],d=t[1],u=t[2],i=0,l=[];i<o.length;i++)n=o[i],Object.prototype.hasOwnProperty.call(c,n)&&c[n]&&l.push(c[n][0]),c[n]=0;for(a in d)Object.prototype.hasOwnProperty.call(d,a)&&(e[a]=d[a]);for(s&&s(t);l.length;)l.shift()();return f.push.apply(f,u||[]),r()}function r(){for(var e,t=0;t<f.length;t++){for(var r=f[t],a=!0,n=1;n<r.length;n++){var d=r[n];0!==c[d]&&(a=!1)}a&&(f.splice(t--,1),e=o(o.s=r[0]))}return e}var a={},n={1:0},c={1:0},f=[];function o(t){if(a[t])return a[t].exports;var r=a[t]={i:t,l:!1,exports:{}};return e[t].call(r.exports,r,r.exports,o),r.l=!0,r.exports}o.e=function(e){var t=[];n[e]?t.push(n[e]):0!==n[e]&&{3:1,4:1,6:1,8:1,9:1,10:1,11:1,12:1,13:1,14:1,15:1,16:1,17:1,18:1,19:1,20:1,21:1,22:1,23:1,24:1}[e]&&t.push(n[e]=new Promise((function(t,r){for(var a=\"static/css/\"+({}[e]||e)+\".\"+{3:\"fef55b35\",4:\"7e2371c7\",5:\"31d6cfe0\",6:\"4ae077e0\",7:\"31d6cfe0\",8:\"8f50568a\",9:\"824d2560\",10:\"3d4b66eb\",11:\"f18aa9d0\",12:\"f18aa9d0\",13:\"dbf56f9c\",14:\"0f8a5370\",15:\"15b5aa33\",16:\"15b5aa33\",17:\"15b5aa33\",18:\"15b5aa33\",19:\"15b5aa33\",20:\"15b5aa33\",21:\"15b5aa33\",22:\"15b5aa33\",23:\"c497e8b9\",24:\"9e469cdd\",25:\"31d6cfe0\",26:\"31d6cfe0\",27:\"31d6cfe0\",28:\"31d6cfe0\",29:\"31d6cfe0\",30:\"31d6cfe0\",31:\"31d6cfe0\",32:\"31d6cfe0\",33:\"31d6cfe0\",34:\"31d6cfe0\",35:\"31d6cfe0\",36:\"31d6cfe0\",37:\"31d6cfe0\",38:\"31d6cfe0\",39:\"31d6cfe0\",40:\"31d6cfe0\",41:\"31d6cfe0\",42:\"31d6cfe0\",43:\"31d6cfe0\",44:\"31d6cfe0\",45:\"31d6cfe0\",46:\"31d6cfe0\",47:\"31d6cfe0\",48:\"31d6cfe0\",49:\"31d6cfe0\",50:\"31d6cfe0\",51:\"31d6cfe0\",52:\"31d6cfe0\",53:\"31d6cfe0\",54:\"31d6cfe0\",55:\"31d6cfe0\"}[e]+\".chunk.css\",c=o.p+a,f=document.getElementsByTagName(\"link\"),d=0;d<f.length;d++){var u=(s=f[d]).getAttribute(\"data-href\")||s.getAttribute(\"href\");if(\"stylesheet\"===s.rel&&(u===a||u===c))return t()}var i=document.getElementsByTagName(\"style\");for(d=0;d<i.length;d++){var s;if((u=(s=i[d]).getAttribute(\"data-href\"))===a||u===c)return t()}var l=document.createElement(\"link\");l.rel=\"stylesheet\",l.type=\"text/css\",l.onload=t,l.onerror=function(t){var a=t&&t.target&&t.target.src||c,f=new Error(\"Loading CSS chunk \"+e+\" failed.\\n(\"+a+\")\");f.code=\"CSS_CHUNK_LOAD_FAILED\",f.request=a,delete n[e],l.parentNode.removeChild(l),r(f)},l.href=c,document.getElementsByTagName(\"head\")[0].appendChild(l)})).then((function(){n[e]=0})));var r=c[e];if(0!==r)if(r)t.push(r[2]);else{var a=new Promise((function(t,a){r=c[e]=[t,a]}));t.push(r[2]=a);var f,d=document.createElement(\"script\");d.charset=\"utf-8\",d.timeout=120,o.nc&&d.setAttribute(\"nonce\",o.nc),d.src=function(e){return o.p+\"static/js/\"+({}[e]||e)+\".\"+{3:\"644dfdf3\",4:\"9613099b\",5:\"ddfbd541\",6:\"b1f156ed\",7:\"9ff26e0a\",8:\"f8270738\",9:\"9ce747ee\",10:\"afdb58df\",11:\"cb3b6674\",12:\"f64699fb\",13:\"8bd8ff67\",14:\"87537515\",15:\"2b10441c\",16:\"d58b8a78\",17:\"8a330e7a\",18:\"7aeaa1c5\",19:\"f9bed009\",20:\"6b96aacd\",21:\"74054adc\",22:\"7db085bd\",23:\"a2d40ce6\",24:\"c598bc52\",25:\"f96a1c9f\",26:\"a623104f\",27:\"b017831d\",28:\"7862a242\",29:\"d821793f\",30:\"d352f7a2\",31:\"f879254e\",32:\"50fb79a3\",33:\"3c3ce62e\",34:\"1a3107dc\",35:\"3b5f9430\",36:\"d702ee40\",37:\"e3ba6e36\",38:\"3c2523da\",39:\"b047a35d\",40:\"8a0ccac7\",41:\"f2b588a0\",42:\"b2b11b56\",43:\"8c567341\",44:\"19a225d8\",45:\"75ef6f09\",46:\"d23a9cc0\",47:\"ce61c82b\",48:\"00673ce9\",49:\"435e704d\",50:\"36faa997\",51:\"977fdf07\",52:\"fb987459\",53:\"094513f0\",54:\"a46664a0\",55:\"d6868405\"}[e]+\".chunk.js\"}(e);var u=new Error;f=function(t){d.onerror=d.onload=null,clearTimeout(i);var r=c[e];if(0!==r){if(r){var a=t&&(\"load\"===t.type?\"missing\":t.type),n=t&&t.target&&t.target.src;u.message=\"Loading chunk \"+e+\" failed.\\n(\"+a+\": \"+n+\")\",u.name=\"ChunkLoadError\",u.type=a,u.request=n,r[1](u)}c[e]=void 0}};var i=setTimeout((function(){f({type:\"timeout\",target:d})}),12e4);d.onerror=d.onload=f,document.head.appendChild(d)}return Promise.all(t)},o.m=e,o.c=a,o.d=function(e,t,r){o.o(e,t)||Object.defineProperty(e,t,{enumerable:!0,get:r})},o.r=function(e){\"undefined\"!=typeof Symbol&&Symbol.toStringTag&&Object.defineProperty(e,Symbol.toStringTag,{value:\"Module\"}),Object.defineProperty(e,\"__esModule\",{value:!0})},o.t=function(e,t){if(1&t&&(e=o(e)),8&t)return e;if(4&t&&\"object\"==typeof e&&e&&e.__esModule)return e;var r=Object.create(null);if(o.r(r),Object.defineProperty(r,\"default\",{enumerable:!0,value:e}),2&t&&\"string\"!=typeof e)for(var a in e)o.d(r,a,function(t){return e[t]}.bind(null,a));return r},o.n=function(e){var t=e&&e.__esModule?function(){return e.default}:function(){return e};return o.d(t,\"a\",t),t},o.o=function(e,t){return Object.prototype.hasOwnProperty.call(e,t)},o.p=\"https://static-assets-prod.unrealengine.com/account-portal/static/\",o.oe=function(e){throw console.error(e),e};var d=this[\"webpackJsonpaccountportal-node-website\"]=this[\"webpackJsonpaccountportal-node-website\"]||[],u=d.push.bind(d);d.push=t,d=d.slice();for(var i=0;i<d.length;i++)t(d[i]);var s=u;r()}([])\n",
      "  </script>\n",
      "  <script src=\"https://static-assets-prod.unrealengine.com/account-portal/static/static/js/2.c2758cbd.chunk.js\">\n",
      "  </script>\n",
      "  <script src=\"https://static-assets-prod.unrealengine.com/account-portal/static/static/js/main.a976b557.chunk.js\">\n",
      "  </script>\n",
      " </body>\n",
      "</html>\n"
     ]
    }
   ],
   "source": [
    "print(soup.prettify())"
   ]
  },
  {
   "cell_type": "code",
   "execution_count": 21,
   "metadata": {},
   "outputs": [
    {
     "data": {
      "text/plain": [
       "[<div id=\"root\"></div>]"
      ]
     },
     "execution_count": 21,
     "metadata": {},
     "output_type": "execute_result"
    }
   ],
   "source": [
    "soup.find_all(\"div\")"
   ]
  },
  {
   "cell_type": "code",
   "execution_count": null,
   "metadata": {},
   "outputs": [],
   "source": []
  }
 ],
 "metadata": {
  "kernelspec": {
   "display_name": "Python 3",
   "language": "python",
   "name": "python3"
  },
  "language_info": {
   "codemirror_mode": {
    "name": "ipython",
    "version": 3
   },
   "file_extension": ".py",
   "mimetype": "text/x-python",
   "name": "python",
   "nbconvert_exporter": "python",
   "pygments_lexer": "ipython3",
   "version": "3.7.6"
  }
 },
 "nbformat": 4,
 "nbformat_minor": 4
}